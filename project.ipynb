{
 "cells": [
  {
   "cell_type": "code",
   "execution_count": 1,
   "metadata": {},
   "outputs": [],
   "source": [
    "import numpy as np\n",
    "import pandas as pd"
   ]
  },
  {
   "cell_type": "code",
   "execution_count": 2,
   "metadata": {},
   "outputs": [
    {
     "name": "stdout",
     "output_type": "stream",
     "text": [
      "Number of compounds >> 68\n",
      "Number of descriptors >> 7\n"
     ]
    }
   ],
   "source": [
    "# Load the compounds data\n",
    "compounds = pd.read_csv(\"./data/compounds.csv\")\n",
    "num_compounds = compounds.shape[0]\n",
    "print(f\"Number of compounds >> {num_compounds}\")\n",
    "print(\n",
    "    f\"Number of descriptors >> {compounds.shape[1] - 3}\"\n",
    ")  # Exclude 'ID', 'NAME', 'CLASS'"
   ]
  },
  {
   "cell_type": "code",
   "execution_count": 12,
   "metadata": {},
   "outputs": [
    {
     "name": "stdout",
     "output_type": "stream",
     "text": [
      "Shape of pairs >> (68, 68)\n"
     ]
    }
   ],
   "source": [
    "# Load the solution mixture pairs\n",
    "pairs = np.genfromtxt(\"./data/pairs.csv\", delimiter=\",\")\n",
    "print(f\"Shape of pairs >> {pairs.shape}\")"
   ]
  },
  {
   "cell_type": "code",
   "execution_count": 4,
   "metadata": {},
   "outputs": [],
   "source": [
    "# Normalize the 'compounds' data"
   ]
  },
  {
   "cell_type": "code",
   "execution_count": 25,
   "metadata": {},
   "outputs": [],
   "source": [
    "# Split the 'pairs' data into train & validate\n",
    "np.random.seed(42)\n",
    "\n",
    "num_pairs = pairs.size\n",
    "num_training_examples = int(0.7 * num_pairs)\n",
    "\n",
    "# Select the entries for training and return their indices\n",
    "training_indices_flat = np.random.choice(\n",
    "    num_pairs, num_training_examples, replace=False\n",
    ")\n",
    "training_indices_rows, training_indices_cols = np.unravel_index(\n",
    "    training_indices_flat, pairs.shape\n",
    ")\n",
    "training_indices = tuple(zip(training_indices_rows, training_indices_cols))\n",
    "\n",
    "# Make the remaining indices as validation set\n",
    "all_indices = set(np.ndindex(pairs.shape))\n",
    "val_indices = tuple(all_indices - set(training_indices))\n",
    "\n",
    "# print(training_indices)\n",
    "# print(val_indices)"
   ]
  },
  {
   "cell_type": "code",
   "execution_count": null,
   "metadata": {},
   "outputs": [],
   "source": []
  }
 ],
 "metadata": {
  "kernelspec": {
   "display_name": "atps",
   "language": "python",
   "name": "python3"
  },
  "language_info": {
   "codemirror_mode": {
    "name": "ipython",
    "version": 3
   },
   "file_extension": ".py",
   "mimetype": "text/x-python",
   "name": "python",
   "nbconvert_exporter": "python",
   "pygments_lexer": "ipython3",
   "version": "3.10.14"
  }
 },
 "nbformat": 4,
 "nbformat_minor": 2
}
