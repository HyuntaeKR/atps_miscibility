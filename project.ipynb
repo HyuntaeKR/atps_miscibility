{
 "cells": [
  {
   "cell_type": "code",
   "execution_count": 2,
   "metadata": {},
   "outputs": [],
   "source": [
    "import numpy as np\n",
    "import pandas as pd"
   ]
  },
  {
   "cell_type": "code",
   "execution_count": 7,
   "metadata": {},
   "outputs": [
    {
     "name": "stdout",
     "output_type": "stream",
     "text": [
      "Number of compounds >> 68\n",
      "Number of descriptors >> 7\n"
     ]
    }
   ],
   "source": [
    "# Load the compounds data\n",
    "compounds = pd.read_csv(\"./data/compounds.csv\")\n",
    "compounds_shape = compounds.shape\n",
    "print(f\"Number of compounds >> {compounds_shape[0]}\")\n",
    "print(\n",
    "    f\"Number of descriptors >> {compounds_shape[1] - 3}\"\n",
    ")  # Exclude 'ID', 'NAME', 'CLASS'"
   ]
  },
  {
   "cell_type": "code",
   "execution_count": 10,
   "metadata": {},
   "outputs": [
    {
     "name": "stdout",
     "output_type": "stream",
     "text": [
      "Shape of pairs >> (68, 68)\n"
     ]
    }
   ],
   "source": [
    "# Load the solution mixture pairs\n",
    "pairs = np.genfromtxt(\"./data/pairs.csv\", delimiter=\",\")\n",
    "print(f\"Shape of pairs >> {pairs.shape}\")"
   ]
  },
  {
   "cell_type": "code",
   "execution_count": null,
   "metadata": {},
   "outputs": [],
   "source": []
  }
 ],
 "metadata": {
  "kernelspec": {
   "display_name": "atps",
   "language": "python",
   "name": "python3"
  },
  "language_info": {
   "codemirror_mode": {
    "name": "ipython",
    "version": 3
   },
   "file_extension": ".py",
   "mimetype": "text/x-python",
   "name": "python",
   "nbconvert_exporter": "python",
   "pygments_lexer": "ipython3",
   "version": "3.10.14"
  }
 },
 "nbformat": 4,
 "nbformat_minor": 2
}
